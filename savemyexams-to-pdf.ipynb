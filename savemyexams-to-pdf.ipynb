{
 "cells": [
  {
   "cell_type": "markdown",
   "metadata": {},
   "source": [
    "# Download save my exams and merge them into 1 PDF"
   ]
  },
  {
   "cell_type": "code",
   "execution_count": 1,
   "metadata": {},
   "outputs": [],
   "source": [
    "import pickle, json"
   ]
  },
  {
   "cell_type": "code",
   "execution_count": 2,
   "metadata": {},
   "outputs": [],
   "source": [
    "import xml.etree.ElementTree as ET"
   ]
  },
  {
   "cell_type": "markdown",
   "metadata": {},
   "source": [
    "## Load sitemap and create a formatted list of links"
   ]
  },
  {
   "cell_type": "code",
   "execution_count": 3,
   "metadata": {},
   "outputs": [],
   "source": [
    "raw_urls = []\n",
    "\n",
    "with open('sitemap.xml', 'r') as f:\n",
    "    xml_data = f.readlines()\n",
    "\n",
    "root = ET.fromstring(''.join(xml_data))\n",
    "\n",
    "for url in root.findall('{http://www.sitemaps.org/schemas/sitemap/0.9}url'):\n",
    "    loc = url.find('{http://www.sitemaps.org/schemas/sitemap/0.9}loc').text\n",
    "    raw_urls.append(loc)"
   ]
  },
  {
   "cell_type": "code",
   "execution_count": 4,
   "metadata": {},
   "outputs": [
    {
     "data": {
      "text/plain": [
       "['https://www.savemyexams.com',\n",
       " 'https://www.savemyexams.com/about/',\n",
       " 'https://www.savemyexams.com/contact/',\n",
       " 'https://www.savemyexams.com/jobs/',\n",
       " 'https://www.savemyexams.com/join/',\n",
       " 'https://www.savemyexams.com/login/',\n",
       " 'https://www.savemyexams.com/privacy/',\n",
       " 'https://www.savemyexams.com/terms/',\n",
       " 'https://www.savemyexams.com/subjects/',\n",
       " 'https://www.savemyexams.com/past-papers/']"
      ]
     },
     "execution_count": 4,
     "metadata": {},
     "output_type": "execute_result"
    }
   ],
   "source": [
    "raw_urls[:10]"
   ]
  },
  {
   "cell_type": "code",
   "execution_count": 5,
   "metadata": {},
   "outputs": [
    {
     "data": {
      "text/plain": [
       "[['www.savemyexams.com', 'about'],\n",
       " ['www.savemyexams.com', 'contact'],\n",
       " ['www.savemyexams.com', 'jobs'],\n",
       " ['www.savemyexams.com', 'join'],\n",
       " ['www.savemyexams.com', 'login'],\n",
       " ['www.savemyexams.com', 'privacy'],\n",
       " ['www.savemyexams.com', 'terms'],\n",
       " ['www.savemyexams.com', 'subjects'],\n",
       " ['www.savemyexams.com', 'past-papers'],\n",
       " ['www.savemyexams.com', 'gcse', 'past-papers']]"
      ]
     },
     "execution_count": 5,
     "metadata": {},
     "output_type": "execute_result"
    }
   ],
   "source": [
    "urls = []\n",
    "\n",
    "for i, url in enumerate(raw_urls):\n",
    "    urls_components = url.split(\"/\")\n",
    "    urls_components.pop()\n",
    "    # Delete first 2 elements\n",
    "    urls_components.pop(0)\n",
    "    urls_components.pop(0)\n",
    "    urls.append(urls_components)\n",
    "\n",
    "urls.pop(0)\n",
    "\n",
    "urls[:10]"
   ]
  },
  {
   "cell_type": "code",
   "execution_count": 6,
   "metadata": {},
   "outputs": [
    {
     "data": {
      "text/plain": [
       "{'igcse': [], 'as': [], 'a-level': []}"
      ]
     },
     "execution_count": 6,
     "metadata": {},
     "output_type": "execute_result"
    }
   ],
   "source": [
    "levels = [\"igcse\", \"as\", \"a-level\"]\n",
    "CHOSEN_BOARD = \n",
    "subjects = {}\n",
    "not_subjects = ['past-papers', 'igcse-vs-gcse', ]\n",
    "\n",
    "for level in levels:\n",
    "    subjects[level] = []\n",
    "\n",
    "subjects"
   ]
  },
  {
   "cell_type": "code",
   "execution_count": 7,
   "metadata": {},
   "outputs": [],
   "source": [
    "for level in levels:\n",
    "    for url in urls:\n",
    "        if url[1] == level and len(url) > 2:\n",
    "            if url[2] not in subjects[level] and url[2] not in not_subjects:\n",
    "                subjects[level].append(url[2])"
   ]
  },
  {
   "cell_type": "code",
   "execution_count": 8,
   "metadata": {},
   "outputs": [
    {
     "data": {
      "text/plain": [
       "{'igcse': ['english-language',\n",
       "  'physics',\n",
       "  'biology',\n",
       "  'chemistry',\n",
       "  'maths',\n",
       "  'history',\n",
       "  'computer-science',\n",
       "  'french',\n",
       "  'german',\n",
       "  'spanish',\n",
       "  'economics',\n",
       "  'geography',\n",
       "  'english-literature',\n",
       "  'business',\n",
       "  'sociology',\n",
       "  'religious-studies',\n",
       "  'ict',\n",
       "  'additional-maths',\n",
       "  'further-maths',\n",
       "  'physics_double-science',\n",
       "  'biology_double-science',\n",
       "  'chemistry_double-science',\n",
       "  'maths_extended',\n",
       "  'maths_core',\n",
       "  'biology_co-ordinated-sciences-double-award',\n",
       "  'chemistry_co-ordinated-sciences-double-award',\n",
       "  'physics_co-ordinated-sciences-double-award',\n",
       "  'commerce',\n",
       "  'art-and-design',\n",
       "  'science',\n",
       "  'islamic-studies',\n",
       "  'arabic',\n",
       "  'physical-education',\n",
       "  'islamiyat',\n",
       "  'environmental-management',\n",
       "  'english',\n",
       "  'agriculture',\n",
       "  'marine-science',\n",
       "  'chinese',\n",
       "  'accounting'],\n",
       " 'as': ['maths',\n",
       "  'physics',\n",
       "  'chemistry',\n",
       "  'biology',\n",
       "  'psychology',\n",
       "  'sociology',\n",
       "  'business',\n",
       "  'english-language',\n",
       "  'economics',\n",
       "  'geography',\n",
       "  'computer-science',\n",
       "  'history',\n",
       "  'english-literature',\n",
       "  'religious-studies',\n",
       "  'further-maths',\n",
       "  'further-maths_statistics',\n",
       "  'further-maths_pure-core',\n",
       "  'further-maths_mechanics',\n",
       "  'further-maths_discrete',\n",
       "  'maths_mechanics',\n",
       "  'maths_pure',\n",
       "  'maths_probability--statistics-1',\n",
       "  'maths_statistics',\n",
       "  'maths_pure-2',\n",
       "  'maths_pure-1',\n",
       "  'physical-education',\n",
       "  'politics',\n",
       "  'law',\n",
       "  'media-studies',\n",
       "  'english',\n",
       "  'environmental-management',\n",
       "  'german',\n",
       "  'french'],\n",
       " 'a-level': ['maths',\n",
       "  'further-maths',\n",
       "  'physics',\n",
       "  'chemistry',\n",
       "  'biology',\n",
       "  'psychology',\n",
       "  'economics',\n",
       "  'sociology',\n",
       "  'english-literature',\n",
       "  'english-language',\n",
       "  'business',\n",
       "  'geography',\n",
       "  'history',\n",
       "  'computer-science',\n",
       "  'politics',\n",
       "  'spanish',\n",
       "  'religious-studies',\n",
       "  'physical-education',\n",
       "  'law',\n",
       "  'ict',\n",
       "  'economics-a',\n",
       "  'further-maths_additional-pure-1',\n",
       "  'further-maths_discrete',\n",
       "  'further-maths_core-pure',\n",
       "  'further-maths_mechanics',\n",
       "  'further-maths_pure-core-1',\n",
       "  'further-maths_pure-core-2',\n",
       "  'further-maths_statistics',\n",
       "  'further-maths_mechanics-1',\n",
       "  'further-maths_further-mechanics-1',\n",
       "  'further-maths_decision-maths-1',\n",
       "  'further-maths_further-statistics-1',\n",
       "  'maths_mechanics',\n",
       "  'maths_pure',\n",
       "  'maths_probability--statistics-1',\n",
       "  'maths_probability--statistics-2',\n",
       "  'maths_statistics',\n",
       "  'maths_pure-3',\n",
       "  'maths_pure-1',\n",
       "  'maths_mechanics-2',\n",
       "  'maths_pure-2',\n",
       "  'english-language_aqa',\n",
       "  'edexcel-data-booklet',\n",
       "  'choosing-a-level-subjects',\n",
       "  'music',\n",
       "  'art-and-design',\n",
       "  'media-studies',\n",
       "  'english-language-and-literature',\n",
       "  'english',\n",
       "  'statistics',\n",
       "  'chinese',\n",
       "  'design-and-technology',\n",
       "  'drama',\n",
       "  'environmental-science',\n",
       "  'classical-civilisation',\n",
       "  'philosophy',\n",
       "  'marine-science',\n",
       "  'german',\n",
       "  'french',\n",
       "  'accounting']}"
      ]
     },
     "execution_count": 8,
     "metadata": {},
     "output_type": "execute_result"
    }
   ],
   "source": [
    "subjects"
   ]
  },
  {
   "cell_type": "code",
   "execution_count": 9,
   "metadata": {},
   "outputs": [],
   "source": [
    "chosen_subject = ['biology', 'physics', 'chemistry']"
   ]
  },
  {
   "cell_type": "code",
   "execution_count": 12,
   "metadata": {},
   "outputs": [
    {
     "name": "stdout",
     "output_type": "stream",
     "text": [
      "igcse physics\n",
      "igcse biology\n",
      "igcse chemistry\n",
      "igcse physics_double-science\n",
      "igcse biology_double-science\n",
      "igcse chemistry_double-science\n",
      "igcse biology_co-ordinated-sciences-double-award\n",
      "igcse chemistry_co-ordinated-sciences-double-award\n",
      "igcse physics_co-ordinated-sciences-double-award\n",
      "as physics\n",
      "as chemistry\n",
      "as biology\n",
      "a-level physics\n",
      "a-level chemistry\n",
      "a-level biology\n"
     ]
    }
   ],
   "source": [
    "chosen_subjects = {}\n",
    "\n",
    "for level in levels:\n",
    "    chosen_subjects[level] = []\n",
    "    for subject in subjects[level]:\n",
    "        # check if the subject has the words biology, physics or chemistry and remove the rest\n",
    "        if any(word in subject for word in chosen_subject):\n",
    "            print(level, subject)\n",
    "            chosen_subjects[level].append(subject)"
   ]
  },
  {
   "cell_type": "code",
   "execution_count": 13,
   "metadata": {},
   "outputs": [
    {
     "data": {
      "text/plain": [
       "{'igcse': ['physics',\n",
       "  'biology',\n",
       "  'chemistry',\n",
       "  'physics_double-science',\n",
       "  'biology_double-science',\n",
       "  'chemistry_double-science',\n",
       "  'biology_co-ordinated-sciences-double-award',\n",
       "  'chemistry_co-ordinated-sciences-double-award',\n",
       "  'physics_co-ordinated-sciences-double-award'],\n",
       " 'as': ['physics', 'chemistry', 'biology'],\n",
       " 'a-level': ['physics', 'chemistry', 'biology']}"
      ]
     },
     "execution_count": 13,
     "metadata": {},
     "output_type": "execute_result"
    }
   ],
   "source": [
    "chosen_subjects"
   ]
  },
  {
   "cell_type": "code",
   "execution_count": 46,
   "metadata": {},
   "outputs": [],
   "source": [
    "to_crawl = []\n",
    "CHOSEN_BOARD='cie'\n",
    "\n",
    "for level in levels:\n",
    "    for subject in chosen_subjects[level]:\n",
    "        for url in urls:\n",
    "            if len(url) > 2:\n",
    "                if url[1:4] == [level, subject, CHOSEN_BOARD]:\n",
    "                    to_crawl.append(url)\n",
    "\n",
    "to_crawl[:20]"
   ]
  },
  {
   "cell_type": "code",
   "execution_count": 52,
   "metadata": {},
   "outputs": [
    {
     "data": {
      "text/plain": [
       "[['www.savemyexams.com',\n",
       "  'igcse',\n",
       "  'physics',\n",
       "  'cie',\n",
       "  '23',\n",
       "  'revision-notes',\n",
       "  '1-motion-forces--energy',\n",
       "  '1-2-motion',\n",
       "  '1-2-2-acceleration'],\n",
       " ['www.savemyexams.com',\n",
       "  'igcse',\n",
       "  'physics',\n",
       "  'cie',\n",
       "  '23',\n",
       "  'revision-notes',\n",
       "  '1-motion-forces--energy',\n",
       "  '1-3-mass-weight--density',\n",
       "  '1-3-4-floating'],\n",
       " ['www.savemyexams.com',\n",
       "  'igcse',\n",
       "  'physics',\n",
       "  'cie',\n",
       "  '23',\n",
       "  'revision-notes',\n",
       "  '1-motion-forces--energy',\n",
       "  '1-5-1-moments',\n",
       "  '1-5-1-moments'],\n",
       " ['www.savemyexams.com',\n",
       "  'igcse',\n",
       "  'physics',\n",
       "  'cie',\n",
       "  '23',\n",
       "  'revision-notes',\n",
       "  '1-motion-forces--energy',\n",
       "  '1-7-energy-work--power',\n",
       "  '1-7-3-gravitational-potential-energy'],\n",
       " ['www.savemyexams.com',\n",
       "  'igcse',\n",
       "  'physics',\n",
       "  'cie',\n",
       "  '23',\n",
       "  'revision-notes',\n",
       "  '1-motion-forces--energy',\n",
       "  '1-9-pressure',\n",
       "  '1-9-1-pressure--forces'],\n",
       " ['www.savemyexams.com',\n",
       "  'igcse',\n",
       "  'physics',\n",
       "  'cie',\n",
       "  '23',\n",
       "  'revision-notes',\n",
       "  '2-thermal-physics',\n",
       "  '2-2-thermal-properties--temperature',\n",
       "  '2-2-2-specific-heat-capacity'],\n",
       " ['www.savemyexams.com',\n",
       "  'igcse',\n",
       "  'physics',\n",
       "  'cie',\n",
       "  '23',\n",
       "  'revision-notes',\n",
       "  '2-thermal-physics',\n",
       "  '2-3-transfer-of-thermal-energy',\n",
       "  '2-3-5-the-greenhouse-effect'],\n",
       " ['www.savemyexams.com',\n",
       "  'igcse',\n",
       "  'physics',\n",
       "  'cie',\n",
       "  '23',\n",
       "  'revision-notes',\n",
       "  '3-waves',\n",
       "  '3-2-light',\n",
       "  '3-2-1-reflection-of-light'],\n",
       " ['www.savemyexams.com',\n",
       "  'igcse',\n",
       "  'physics',\n",
       "  'cie',\n",
       "  '23',\n",
       "  'revision-notes',\n",
       "  '3-waves',\n",
       "  '3-2-light',\n",
       "  '3-2-9-dispersion-of-light'],\n",
       " ['www.savemyexams.com',\n",
       "  'igcse',\n",
       "  'physics',\n",
       "  'cie',\n",
       "  '23',\n",
       "  'revision-notes',\n",
       "  '3-waves',\n",
       "  '3-4-sound',\n",
       "  '3-4-3-effects-of-sound-waves']]"
      ]
     },
     "execution_count": 52,
     "metadata": {},
     "output_type": "execute_result"
    }
   ],
   "source": [
    "for i, url in enumerate(to_crawl):\n",
    "    if len(url) > 6 and url[3] == \"cie\":\n",
    "        pass\n",
    "\n",
    "    to_crawl.remove(url)\n",
    "\n",
    "to_crawl[:10]"
   ]
  },
  {
   "cell_type": "code",
   "execution_count": 53,
   "metadata": {},
   "outputs": [],
   "source": [
    "with open('to_crawl.csv', 'w') as f:\n",
    "    columns = ['root', 'level', 'subject', 'board' , 'year', 'page_type', 'the_rest']\n",
    "    f.write(','.join(columns) + '\\n')\n",
    "\n",
    "    # root element 0, level element 1, subject element 2, the rest element 3\n",
    "    for url in to_crawl:\n",
    "        if len(url) > 5:\n",
    "            data_row = [url[0], url[1], url[2], url[3], url[4], url[5] ,'/'.join(url[6:])]\n",
    "            f.write(','.join(data_row) + '\\n')"
   ]
  },
  {
   "cell_type": "code",
   "execution_count": null,
   "metadata": {},
   "outputs": [],
   "source": []
  }
 ],
 "metadata": {
  "kernelspec": {
   "display_name": "sme-dl",
   "language": "python",
   "name": "python3"
  },
  "language_info": {
   "codemirror_mode": {
    "name": "ipython",
    "version": 3
   },
   "file_extension": ".py",
   "mimetype": "text/x-python",
   "name": "python",
   "nbconvert_exporter": "python",
   "pygments_lexer": "ipython3",
   "version": "3.12.2"
  }
 },
 "nbformat": 4,
 "nbformat_minor": 2
}
